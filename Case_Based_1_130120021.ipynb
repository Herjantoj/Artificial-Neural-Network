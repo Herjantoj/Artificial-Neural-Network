{
  "nbformat": 4,
  "nbformat_minor": 0,
  "metadata": {
    "colab": {
      "provenance": []
    },
    "kernelspec": {
      "name": "python3",
      "display_name": "Python 3"
    },
    "language_info": {
      "name": "python"
    }
  },
  "cells": [
    {
      "cell_type": "markdown",
      "source": [
        "# Preprocessing Data\n",
        "Herjanto janawisuta\n",
        "\n",
        "1301200421\n",
        "\n",
        "IF4408"
      ],
      "metadata": {
        "id": "B-O8HHYLtEPg"
      }
    },
    {
      "cell_type": "markdown",
      "source": [
        "Missing Value"
      ],
      "metadata": {
        "id": "UatQ9Eq7tJrD"
      }
    },
    {
      "cell_type": "code",
      "execution_count": null,
      "metadata": {
        "id": "_93kxH28EzgK"
      },
      "outputs": [],
      "source": [
        "#Import Library\n",
        "\n",
        "import pandas as pd\n",
        "import numpy as np\n",
        "import seaborn as sns\n",
        "import tensorflow as tf\n",
        "from sklearn.model_selection import train_test_split\n",
        "from sklearn.preprocessing import MinMaxScaler\n",
        "from keras.models import Sequential\n",
        "from keras.layers import Dense\n",
        "import matplotlib.pyplot as plt"
      ]
    },
    {
      "cell_type": "code",
      "source": [
        "# Read Dataset audit_risk\n",
        "\n",
        "url_1 = 'https://raw.githubusercontent.com/Herjantoj/audit_data/main/audit_risk.csv'\n",
        "audit_risk = pd.read_csv(url_1)\n",
        "# audit_risk.describe()\n",
        "audit_risk"
      ],
      "metadata": {
        "colab": {
          "base_uri": "https://localhost:8080/",
          "height": 424
        },
        "id": "gQU8GFr_ufnn",
        "outputId": "683272f9-3e30-41a2-a9a6-eb2dd7f7a163"
      },
      "execution_count": null,
      "outputs": [
        {
          "output_type": "execute_result",
          "data": {
            "text/plain": [
              "     Sector_score LOCATION_ID  PARA_A  Score_A  Risk_A  PARA_B  Score_B  \\\n",
              "0            3.89          23    4.18      0.6   2.508    2.50      0.2   \n",
              "1            3.89           6    0.00      0.2   0.000    4.83      0.2   \n",
              "2            3.89           6    0.51      0.2   0.102    0.23      0.2   \n",
              "3            3.89           6    0.00      0.2   0.000   10.80      0.6   \n",
              "4            3.89           6    0.00      0.2   0.000    0.08      0.2   \n",
              "..            ...         ...     ...      ...     ...     ...      ...   \n",
              "771         55.57           9    0.49      0.2   0.098    0.40      0.2   \n",
              "772         55.57          16    0.47      0.2   0.094    0.37      0.2   \n",
              "773         55.57          14    0.24      0.2   0.048    0.04      0.2   \n",
              "774         55.57          18    0.20      0.2   0.040    0.00      0.2   \n",
              "775         55.57          15    0.00      0.2   0.000    0.00      0.2   \n",
              "\n",
              "     Risk_B  TOTAL  numbers  ...  RiSk_E  History  Prob  Risk_F  Score  \\\n",
              "0     0.500   6.68      5.0  ...     0.4        0   0.2     0.0    2.4   \n",
              "1     0.966   4.83      5.0  ...     0.4        0   0.2     0.0    2.0   \n",
              "2     0.046   0.74      5.0  ...     0.4        0   0.2     0.0    2.0   \n",
              "3     6.480  10.80      6.0  ...     0.4        0   0.2     0.0    4.4   \n",
              "4     0.016   0.08      5.0  ...     0.4        0   0.2     0.0    2.0   \n",
              "..      ...    ...      ...  ...     ...      ...   ...     ...    ...   \n",
              "771   0.080   0.89      5.0  ...     0.4        0   0.2     0.0    2.0   \n",
              "772   0.074   0.84      5.0  ...     0.4        0   0.2     0.0    2.0   \n",
              "773   0.008   0.28      5.0  ...     0.4        0   0.2     0.0    2.0   \n",
              "774   0.000   0.20      5.0  ...     0.4        0   0.2     0.0    2.0   \n",
              "775   0.000   0.00      5.0  ...     0.4        0   0.2     0.0    2.0   \n",
              "\n",
              "     Inherent_Risk  CONTROL_RISK  Detection_Risk  Audit_Risk  Risk  \n",
              "0            8.574           0.4             0.5      1.7148     1  \n",
              "1            2.554           0.4             0.5      0.5108     0  \n",
              "2            1.548           0.4             0.5      0.3096     0  \n",
              "3           17.530           0.4             0.5      3.5060     1  \n",
              "4            1.416           0.4             0.5      0.2832     0  \n",
              "..             ...           ...             ...         ...   ...  \n",
              "771          1.578           0.4             0.5      0.3156     0  \n",
              "772          1.568           0.4             0.5      0.3136     0  \n",
              "773          1.456           0.4             0.5      0.2912     0  \n",
              "774          1.440           0.4             0.5      0.2880     0  \n",
              "775          1.464           0.4             0.5      0.2928     0  \n",
              "\n",
              "[776 rows x 27 columns]"
            ],
            "text/html": [
              "\n",
              "  <div id=\"df-fa7fc35b-adee-4200-ba13-d04606b57933\">\n",
              "    <div class=\"colab-df-container\">\n",
              "      <div>\n",
              "<style scoped>\n",
              "    .dataframe tbody tr th:only-of-type {\n",
              "        vertical-align: middle;\n",
              "    }\n",
              "\n",
              "    .dataframe tbody tr th {\n",
              "        vertical-align: top;\n",
              "    }\n",
              "\n",
              "    .dataframe thead th {\n",
              "        text-align: right;\n",
              "    }\n",
              "</style>\n",
              "<table border=\"1\" class=\"dataframe\">\n",
              "  <thead>\n",
              "    <tr style=\"text-align: right;\">\n",
              "      <th></th>\n",
              "      <th>Sector_score</th>\n",
              "      <th>LOCATION_ID</th>\n",
              "      <th>PARA_A</th>\n",
              "      <th>Score_A</th>\n",
              "      <th>Risk_A</th>\n",
              "      <th>PARA_B</th>\n",
              "      <th>Score_B</th>\n",
              "      <th>Risk_B</th>\n",
              "      <th>TOTAL</th>\n",
              "      <th>numbers</th>\n",
              "      <th>...</th>\n",
              "      <th>RiSk_E</th>\n",
              "      <th>History</th>\n",
              "      <th>Prob</th>\n",
              "      <th>Risk_F</th>\n",
              "      <th>Score</th>\n",
              "      <th>Inherent_Risk</th>\n",
              "      <th>CONTROL_RISK</th>\n",
              "      <th>Detection_Risk</th>\n",
              "      <th>Audit_Risk</th>\n",
              "      <th>Risk</th>\n",
              "    </tr>\n",
              "  </thead>\n",
              "  <tbody>\n",
              "    <tr>\n",
              "      <th>0</th>\n",
              "      <td>3.89</td>\n",
              "      <td>23</td>\n",
              "      <td>4.18</td>\n",
              "      <td>0.6</td>\n",
              "      <td>2.508</td>\n",
              "      <td>2.50</td>\n",
              "      <td>0.2</td>\n",
              "      <td>0.500</td>\n",
              "      <td>6.68</td>\n",
              "      <td>5.0</td>\n",
              "      <td>...</td>\n",
              "      <td>0.4</td>\n",
              "      <td>0</td>\n",
              "      <td>0.2</td>\n",
              "      <td>0.0</td>\n",
              "      <td>2.4</td>\n",
              "      <td>8.574</td>\n",
              "      <td>0.4</td>\n",
              "      <td>0.5</td>\n",
              "      <td>1.7148</td>\n",
              "      <td>1</td>\n",
              "    </tr>\n",
              "    <tr>\n",
              "      <th>1</th>\n",
              "      <td>3.89</td>\n",
              "      <td>6</td>\n",
              "      <td>0.00</td>\n",
              "      <td>0.2</td>\n",
              "      <td>0.000</td>\n",
              "      <td>4.83</td>\n",
              "      <td>0.2</td>\n",
              "      <td>0.966</td>\n",
              "      <td>4.83</td>\n",
              "      <td>5.0</td>\n",
              "      <td>...</td>\n",
              "      <td>0.4</td>\n",
              "      <td>0</td>\n",
              "      <td>0.2</td>\n",
              "      <td>0.0</td>\n",
              "      <td>2.0</td>\n",
              "      <td>2.554</td>\n",
              "      <td>0.4</td>\n",
              "      <td>0.5</td>\n",
              "      <td>0.5108</td>\n",
              "      <td>0</td>\n",
              "    </tr>\n",
              "    <tr>\n",
              "      <th>2</th>\n",
              "      <td>3.89</td>\n",
              "      <td>6</td>\n",
              "      <td>0.51</td>\n",
              "      <td>0.2</td>\n",
              "      <td>0.102</td>\n",
              "      <td>0.23</td>\n",
              "      <td>0.2</td>\n",
              "      <td>0.046</td>\n",
              "      <td>0.74</td>\n",
              "      <td>5.0</td>\n",
              "      <td>...</td>\n",
              "      <td>0.4</td>\n",
              "      <td>0</td>\n",
              "      <td>0.2</td>\n",
              "      <td>0.0</td>\n",
              "      <td>2.0</td>\n",
              "      <td>1.548</td>\n",
              "      <td>0.4</td>\n",
              "      <td>0.5</td>\n",
              "      <td>0.3096</td>\n",
              "      <td>0</td>\n",
              "    </tr>\n",
              "    <tr>\n",
              "      <th>3</th>\n",
              "      <td>3.89</td>\n",
              "      <td>6</td>\n",
              "      <td>0.00</td>\n",
              "      <td>0.2</td>\n",
              "      <td>0.000</td>\n",
              "      <td>10.80</td>\n",
              "      <td>0.6</td>\n",
              "      <td>6.480</td>\n",
              "      <td>10.80</td>\n",
              "      <td>6.0</td>\n",
              "      <td>...</td>\n",
              "      <td>0.4</td>\n",
              "      <td>0</td>\n",
              "      <td>0.2</td>\n",
              "      <td>0.0</td>\n",
              "      <td>4.4</td>\n",
              "      <td>17.530</td>\n",
              "      <td>0.4</td>\n",
              "      <td>0.5</td>\n",
              "      <td>3.5060</td>\n",
              "      <td>1</td>\n",
              "    </tr>\n",
              "    <tr>\n",
              "      <th>4</th>\n",
              "      <td>3.89</td>\n",
              "      <td>6</td>\n",
              "      <td>0.00</td>\n",
              "      <td>0.2</td>\n",
              "      <td>0.000</td>\n",
              "      <td>0.08</td>\n",
              "      <td>0.2</td>\n",
              "      <td>0.016</td>\n",
              "      <td>0.08</td>\n",
              "      <td>5.0</td>\n",
              "      <td>...</td>\n",
              "      <td>0.4</td>\n",
              "      <td>0</td>\n",
              "      <td>0.2</td>\n",
              "      <td>0.0</td>\n",
              "      <td>2.0</td>\n",
              "      <td>1.416</td>\n",
              "      <td>0.4</td>\n",
              "      <td>0.5</td>\n",
              "      <td>0.2832</td>\n",
              "      <td>0</td>\n",
              "    </tr>\n",
              "    <tr>\n",
              "      <th>...</th>\n",
              "      <td>...</td>\n",
              "      <td>...</td>\n",
              "      <td>...</td>\n",
              "      <td>...</td>\n",
              "      <td>...</td>\n",
              "      <td>...</td>\n",
              "      <td>...</td>\n",
              "      <td>...</td>\n",
              "      <td>...</td>\n",
              "      <td>...</td>\n",
              "      <td>...</td>\n",
              "      <td>...</td>\n",
              "      <td>...</td>\n",
              "      <td>...</td>\n",
              "      <td>...</td>\n",
              "      <td>...</td>\n",
              "      <td>...</td>\n",
              "      <td>...</td>\n",
              "      <td>...</td>\n",
              "      <td>...</td>\n",
              "      <td>...</td>\n",
              "    </tr>\n",
              "    <tr>\n",
              "      <th>771</th>\n",
              "      <td>55.57</td>\n",
              "      <td>9</td>\n",
              "      <td>0.49</td>\n",
              "      <td>0.2</td>\n",
              "      <td>0.098</td>\n",
              "      <td>0.40</td>\n",
              "      <td>0.2</td>\n",
              "      <td>0.080</td>\n",
              "      <td>0.89</td>\n",
              "      <td>5.0</td>\n",
              "      <td>...</td>\n",
              "      <td>0.4</td>\n",
              "      <td>0</td>\n",
              "      <td>0.2</td>\n",
              "      <td>0.0</td>\n",
              "      <td>2.0</td>\n",
              "      <td>1.578</td>\n",
              "      <td>0.4</td>\n",
              "      <td>0.5</td>\n",
              "      <td>0.3156</td>\n",
              "      <td>0</td>\n",
              "    </tr>\n",
              "    <tr>\n",
              "      <th>772</th>\n",
              "      <td>55.57</td>\n",
              "      <td>16</td>\n",
              "      <td>0.47</td>\n",
              "      <td>0.2</td>\n",
              "      <td>0.094</td>\n",
              "      <td>0.37</td>\n",
              "      <td>0.2</td>\n",
              "      <td>0.074</td>\n",
              "      <td>0.84</td>\n",
              "      <td>5.0</td>\n",
              "      <td>...</td>\n",
              "      <td>0.4</td>\n",
              "      <td>0</td>\n",
              "      <td>0.2</td>\n",
              "      <td>0.0</td>\n",
              "      <td>2.0</td>\n",
              "      <td>1.568</td>\n",
              "      <td>0.4</td>\n",
              "      <td>0.5</td>\n",
              "      <td>0.3136</td>\n",
              "      <td>0</td>\n",
              "    </tr>\n",
              "    <tr>\n",
              "      <th>773</th>\n",
              "      <td>55.57</td>\n",
              "      <td>14</td>\n",
              "      <td>0.24</td>\n",
              "      <td>0.2</td>\n",
              "      <td>0.048</td>\n",
              "      <td>0.04</td>\n",
              "      <td>0.2</td>\n",
              "      <td>0.008</td>\n",
              "      <td>0.28</td>\n",
              "      <td>5.0</td>\n",
              "      <td>...</td>\n",
              "      <td>0.4</td>\n",
              "      <td>0</td>\n",
              "      <td>0.2</td>\n",
              "      <td>0.0</td>\n",
              "      <td>2.0</td>\n",
              "      <td>1.456</td>\n",
              "      <td>0.4</td>\n",
              "      <td>0.5</td>\n",
              "      <td>0.2912</td>\n",
              "      <td>0</td>\n",
              "    </tr>\n",
              "    <tr>\n",
              "      <th>774</th>\n",
              "      <td>55.57</td>\n",
              "      <td>18</td>\n",
              "      <td>0.20</td>\n",
              "      <td>0.2</td>\n",
              "      <td>0.040</td>\n",
              "      <td>0.00</td>\n",
              "      <td>0.2</td>\n",
              "      <td>0.000</td>\n",
              "      <td>0.20</td>\n",
              "      <td>5.0</td>\n",
              "      <td>...</td>\n",
              "      <td>0.4</td>\n",
              "      <td>0</td>\n",
              "      <td>0.2</td>\n",
              "      <td>0.0</td>\n",
              "      <td>2.0</td>\n",
              "      <td>1.440</td>\n",
              "      <td>0.4</td>\n",
              "      <td>0.5</td>\n",
              "      <td>0.2880</td>\n",
              "      <td>0</td>\n",
              "    </tr>\n",
              "    <tr>\n",
              "      <th>775</th>\n",
              "      <td>55.57</td>\n",
              "      <td>15</td>\n",
              "      <td>0.00</td>\n",
              "      <td>0.2</td>\n",
              "      <td>0.000</td>\n",
              "      <td>0.00</td>\n",
              "      <td>0.2</td>\n",
              "      <td>0.000</td>\n",
              "      <td>0.00</td>\n",
              "      <td>5.0</td>\n",
              "      <td>...</td>\n",
              "      <td>0.4</td>\n",
              "      <td>0</td>\n",
              "      <td>0.2</td>\n",
              "      <td>0.0</td>\n",
              "      <td>2.0</td>\n",
              "      <td>1.464</td>\n",
              "      <td>0.4</td>\n",
              "      <td>0.5</td>\n",
              "      <td>0.2928</td>\n",
              "      <td>0</td>\n",
              "    </tr>\n",
              "  </tbody>\n",
              "</table>\n",
              "<p>776 rows × 27 columns</p>\n",
              "</div>\n",
              "      <button class=\"colab-df-convert\" onclick=\"convertToInteractive('df-fa7fc35b-adee-4200-ba13-d04606b57933')\"\n",
              "              title=\"Convert this dataframe to an interactive table.\"\n",
              "              style=\"display:none;\">\n",
              "        \n",
              "  <svg xmlns=\"http://www.w3.org/2000/svg\" height=\"24px\"viewBox=\"0 0 24 24\"\n",
              "       width=\"24px\">\n",
              "    <path d=\"M0 0h24v24H0V0z\" fill=\"none\"/>\n",
              "    <path d=\"M18.56 5.44l.94 2.06.94-2.06 2.06-.94-2.06-.94-.94-2.06-.94 2.06-2.06.94zm-11 1L8.5 8.5l.94-2.06 2.06-.94-2.06-.94L8.5 2.5l-.94 2.06-2.06.94zm10 10l.94 2.06.94-2.06 2.06-.94-2.06-.94-.94-2.06-.94 2.06-2.06.94z\"/><path d=\"M17.41 7.96l-1.37-1.37c-.4-.4-.92-.59-1.43-.59-.52 0-1.04.2-1.43.59L10.3 9.45l-7.72 7.72c-.78.78-.78 2.05 0 2.83L4 21.41c.39.39.9.59 1.41.59.51 0 1.02-.2 1.41-.59l7.78-7.78 2.81-2.81c.8-.78.8-2.07 0-2.86zM5.41 20L4 18.59l7.72-7.72 1.47 1.35L5.41 20z\"/>\n",
              "  </svg>\n",
              "      </button>\n",
              "      \n",
              "  <style>\n",
              "    .colab-df-container {\n",
              "      display:flex;\n",
              "      flex-wrap:wrap;\n",
              "      gap: 12px;\n",
              "    }\n",
              "\n",
              "    .colab-df-convert {\n",
              "      background-color: #E8F0FE;\n",
              "      border: none;\n",
              "      border-radius: 50%;\n",
              "      cursor: pointer;\n",
              "      display: none;\n",
              "      fill: #1967D2;\n",
              "      height: 32px;\n",
              "      padding: 0 0 0 0;\n",
              "      width: 32px;\n",
              "    }\n",
              "\n",
              "    .colab-df-convert:hover {\n",
              "      background-color: #E2EBFA;\n",
              "      box-shadow: 0px 1px 2px rgba(60, 64, 67, 0.3), 0px 1px 3px 1px rgba(60, 64, 67, 0.15);\n",
              "      fill: #174EA6;\n",
              "    }\n",
              "\n",
              "    [theme=dark] .colab-df-convert {\n",
              "      background-color: #3B4455;\n",
              "      fill: #D2E3FC;\n",
              "    }\n",
              "\n",
              "    [theme=dark] .colab-df-convert:hover {\n",
              "      background-color: #434B5C;\n",
              "      box-shadow: 0px 1px 3px 1px rgba(0, 0, 0, 0.15);\n",
              "      filter: drop-shadow(0px 1px 2px rgba(0, 0, 0, 0.3));\n",
              "      fill: #FFFFFF;\n",
              "    }\n",
              "  </style>\n",
              "\n",
              "      <script>\n",
              "        const buttonEl =\n",
              "          document.querySelector('#df-fa7fc35b-adee-4200-ba13-d04606b57933 button.colab-df-convert');\n",
              "        buttonEl.style.display =\n",
              "          google.colab.kernel.accessAllowed ? 'block' : 'none';\n",
              "\n",
              "        async function convertToInteractive(key) {\n",
              "          const element = document.querySelector('#df-fa7fc35b-adee-4200-ba13-d04606b57933');\n",
              "          const dataTable =\n",
              "            await google.colab.kernel.invokeFunction('convertToInteractive',\n",
              "                                                     [key], {});\n",
              "          if (!dataTable) return;\n",
              "\n",
              "          const docLinkHtml = 'Like what you see? Visit the ' +\n",
              "            '<a target=\"_blank\" href=https://colab.research.google.com/notebooks/data_table.ipynb>data table notebook</a>'\n",
              "            + ' to learn more about interactive tables.';\n",
              "          element.innerHTML = '';\n",
              "          dataTable['output_type'] = 'display_data';\n",
              "          await google.colab.output.renderOutput(dataTable, element);\n",
              "          const docLink = document.createElement('div');\n",
              "          docLink.innerHTML = docLinkHtml;\n",
              "          element.appendChild(docLink);\n",
              "        }\n",
              "      </script>\n",
              "    </div>\n",
              "  </div>\n",
              "  "
            ]
          },
          "metadata": {},
          "execution_count": 815
        }
      ]
    },
    {
      "cell_type": "code",
      "source": [
        "# Read Dataset trial\n",
        "\n",
        "url_2 = 'https://raw.githubusercontent.com/Herjantoj/audit_data/main/trial.csv'\n",
        "trial = pd.read_csv(url_2)\n",
        "# trial.describe()\n",
        "trial"
      ],
      "metadata": {
        "colab": {
          "base_uri": "https://localhost:8080/",
          "height": 424
        },
        "id": "XrnYsxVwyuQI",
        "outputId": "1e17dac4-62f7-45cd-f7bf-8a740d55356f"
      },
      "execution_count": null,
      "outputs": [
        {
          "output_type": "execute_result",
          "data": {
            "text/plain": [
              "     Sector_score LOCATION_ID  PARA_A  SCORE_A  PARA_B  SCORE_B  TOTAL  \\\n",
              "0            3.89          23    4.18        6    2.50        2   6.68   \n",
              "1            3.89           6    0.00        2    4.83        2   4.83   \n",
              "2            3.89           6    0.51        2    0.23        2   0.74   \n",
              "3            3.89           6    0.00        2   10.80        6  10.80   \n",
              "4            3.89           6    0.00        2    0.08        2   0.08   \n",
              "..            ...         ...     ...      ...     ...      ...    ...   \n",
              "771         55.57           9    0.49        2    0.40        2   0.89   \n",
              "772         55.57          16    0.47        2    0.37        2   0.84   \n",
              "773         55.57          14    0.24        2    0.04        2   0.28   \n",
              "774         55.57          18    0.20        2    0.00        2   0.20   \n",
              "775         55.57          15    0.00        2    0.00        2   0.00   \n",
              "\n",
              "     numbers  Marks  Money_Value  MONEY_Marks  District  Loss  LOSS_SCORE  \\\n",
              "0        5.0      2         3.38            2         2     0           2   \n",
              "1        5.0      2         0.94            2         2     0           2   \n",
              "2        5.0      2         0.00            2         2     0           2   \n",
              "3        6.0      6        11.75            6         2     0           2   \n",
              "4        5.0      2         0.00            2         2     0           2   \n",
              "..       ...    ...          ...          ...       ...   ...         ...   \n",
              "771      5.0      2         0.00            2         2     0           2   \n",
              "772      5.0      2         0.00            2         2     0           2   \n",
              "773      5.0      2         0.00            2         2     0           2   \n",
              "774      5.0      2         0.00            2         2     0           2   \n",
              "775      5.0      2         0.32            2         2     0           2   \n",
              "\n",
              "     History  History_score  Score  Risk  \n",
              "0          0              2    2.4     1  \n",
              "1          0              2    2.0     0  \n",
              "2          0              2    2.0     0  \n",
              "3          0              2    4.4     1  \n",
              "4          0              2    2.0     0  \n",
              "..       ...            ...    ...   ...  \n",
              "771        0              2    2.0     0  \n",
              "772        0              2    2.0     0  \n",
              "773        0              2    2.0     0  \n",
              "774        0              2    2.0     0  \n",
              "775        0              2    2.0     0  \n",
              "\n",
              "[776 rows x 18 columns]"
            ],
            "text/html": [
              "\n",
              "  <div id=\"df-add9c686-9cd3-4a89-97d4-d8d1c7306e56\">\n",
              "    <div class=\"colab-df-container\">\n",
              "      <div>\n",
              "<style scoped>\n",
              "    .dataframe tbody tr th:only-of-type {\n",
              "        vertical-align: middle;\n",
              "    }\n",
              "\n",
              "    .dataframe tbody tr th {\n",
              "        vertical-align: top;\n",
              "    }\n",
              "\n",
              "    .dataframe thead th {\n",
              "        text-align: right;\n",
              "    }\n",
              "</style>\n",
              "<table border=\"1\" class=\"dataframe\">\n",
              "  <thead>\n",
              "    <tr style=\"text-align: right;\">\n",
              "      <th></th>\n",
              "      <th>Sector_score</th>\n",
              "      <th>LOCATION_ID</th>\n",
              "      <th>PARA_A</th>\n",
              "      <th>SCORE_A</th>\n",
              "      <th>PARA_B</th>\n",
              "      <th>SCORE_B</th>\n",
              "      <th>TOTAL</th>\n",
              "      <th>numbers</th>\n",
              "      <th>Marks</th>\n",
              "      <th>Money_Value</th>\n",
              "      <th>MONEY_Marks</th>\n",
              "      <th>District</th>\n",
              "      <th>Loss</th>\n",
              "      <th>LOSS_SCORE</th>\n",
              "      <th>History</th>\n",
              "      <th>History_score</th>\n",
              "      <th>Score</th>\n",
              "      <th>Risk</th>\n",
              "    </tr>\n",
              "  </thead>\n",
              "  <tbody>\n",
              "    <tr>\n",
              "      <th>0</th>\n",
              "      <td>3.89</td>\n",
              "      <td>23</td>\n",
              "      <td>4.18</td>\n",
              "      <td>6</td>\n",
              "      <td>2.50</td>\n",
              "      <td>2</td>\n",
              "      <td>6.68</td>\n",
              "      <td>5.0</td>\n",
              "      <td>2</td>\n",
              "      <td>3.38</td>\n",
              "      <td>2</td>\n",
              "      <td>2</td>\n",
              "      <td>0</td>\n",
              "      <td>2</td>\n",
              "      <td>0</td>\n",
              "      <td>2</td>\n",
              "      <td>2.4</td>\n",
              "      <td>1</td>\n",
              "    </tr>\n",
              "    <tr>\n",
              "      <th>1</th>\n",
              "      <td>3.89</td>\n",
              "      <td>6</td>\n",
              "      <td>0.00</td>\n",
              "      <td>2</td>\n",
              "      <td>4.83</td>\n",
              "      <td>2</td>\n",
              "      <td>4.83</td>\n",
              "      <td>5.0</td>\n",
              "      <td>2</td>\n",
              "      <td>0.94</td>\n",
              "      <td>2</td>\n",
              "      <td>2</td>\n",
              "      <td>0</td>\n",
              "      <td>2</td>\n",
              "      <td>0</td>\n",
              "      <td>2</td>\n",
              "      <td>2.0</td>\n",
              "      <td>0</td>\n",
              "    </tr>\n",
              "    <tr>\n",
              "      <th>2</th>\n",
              "      <td>3.89</td>\n",
              "      <td>6</td>\n",
              "      <td>0.51</td>\n",
              "      <td>2</td>\n",
              "      <td>0.23</td>\n",
              "      <td>2</td>\n",
              "      <td>0.74</td>\n",
              "      <td>5.0</td>\n",
              "      <td>2</td>\n",
              "      <td>0.00</td>\n",
              "      <td>2</td>\n",
              "      <td>2</td>\n",
              "      <td>0</td>\n",
              "      <td>2</td>\n",
              "      <td>0</td>\n",
              "      <td>2</td>\n",
              "      <td>2.0</td>\n",
              "      <td>0</td>\n",
              "    </tr>\n",
              "    <tr>\n",
              "      <th>3</th>\n",
              "      <td>3.89</td>\n",
              "      <td>6</td>\n",
              "      <td>0.00</td>\n",
              "      <td>2</td>\n",
              "      <td>10.80</td>\n",
              "      <td>6</td>\n",
              "      <td>10.80</td>\n",
              "      <td>6.0</td>\n",
              "      <td>6</td>\n",
              "      <td>11.75</td>\n",
              "      <td>6</td>\n",
              "      <td>2</td>\n",
              "      <td>0</td>\n",
              "      <td>2</td>\n",
              "      <td>0</td>\n",
              "      <td>2</td>\n",
              "      <td>4.4</td>\n",
              "      <td>1</td>\n",
              "    </tr>\n",
              "    <tr>\n",
              "      <th>4</th>\n",
              "      <td>3.89</td>\n",
              "      <td>6</td>\n",
              "      <td>0.00</td>\n",
              "      <td>2</td>\n",
              "      <td>0.08</td>\n",
              "      <td>2</td>\n",
              "      <td>0.08</td>\n",
              "      <td>5.0</td>\n",
              "      <td>2</td>\n",
              "      <td>0.00</td>\n",
              "      <td>2</td>\n",
              "      <td>2</td>\n",
              "      <td>0</td>\n",
              "      <td>2</td>\n",
              "      <td>0</td>\n",
              "      <td>2</td>\n",
              "      <td>2.0</td>\n",
              "      <td>0</td>\n",
              "    </tr>\n",
              "    <tr>\n",
              "      <th>...</th>\n",
              "      <td>...</td>\n",
              "      <td>...</td>\n",
              "      <td>...</td>\n",
              "      <td>...</td>\n",
              "      <td>...</td>\n",
              "      <td>...</td>\n",
              "      <td>...</td>\n",
              "      <td>...</td>\n",
              "      <td>...</td>\n",
              "      <td>...</td>\n",
              "      <td>...</td>\n",
              "      <td>...</td>\n",
              "      <td>...</td>\n",
              "      <td>...</td>\n",
              "      <td>...</td>\n",
              "      <td>...</td>\n",
              "      <td>...</td>\n",
              "      <td>...</td>\n",
              "    </tr>\n",
              "    <tr>\n",
              "      <th>771</th>\n",
              "      <td>55.57</td>\n",
              "      <td>9</td>\n",
              "      <td>0.49</td>\n",
              "      <td>2</td>\n",
              "      <td>0.40</td>\n",
              "      <td>2</td>\n",
              "      <td>0.89</td>\n",
              "      <td>5.0</td>\n",
              "      <td>2</td>\n",
              "      <td>0.00</td>\n",
              "      <td>2</td>\n",
              "      <td>2</td>\n",
              "      <td>0</td>\n",
              "      <td>2</td>\n",
              "      <td>0</td>\n",
              "      <td>2</td>\n",
              "      <td>2.0</td>\n",
              "      <td>0</td>\n",
              "    </tr>\n",
              "    <tr>\n",
              "      <th>772</th>\n",
              "      <td>55.57</td>\n",
              "      <td>16</td>\n",
              "      <td>0.47</td>\n",
              "      <td>2</td>\n",
              "      <td>0.37</td>\n",
              "      <td>2</td>\n",
              "      <td>0.84</td>\n",
              "      <td>5.0</td>\n",
              "      <td>2</td>\n",
              "      <td>0.00</td>\n",
              "      <td>2</td>\n",
              "      <td>2</td>\n",
              "      <td>0</td>\n",
              "      <td>2</td>\n",
              "      <td>0</td>\n",
              "      <td>2</td>\n",
              "      <td>2.0</td>\n",
              "      <td>0</td>\n",
              "    </tr>\n",
              "    <tr>\n",
              "      <th>773</th>\n",
              "      <td>55.57</td>\n",
              "      <td>14</td>\n",
              "      <td>0.24</td>\n",
              "      <td>2</td>\n",
              "      <td>0.04</td>\n",
              "      <td>2</td>\n",
              "      <td>0.28</td>\n",
              "      <td>5.0</td>\n",
              "      <td>2</td>\n",
              "      <td>0.00</td>\n",
              "      <td>2</td>\n",
              "      <td>2</td>\n",
              "      <td>0</td>\n",
              "      <td>2</td>\n",
              "      <td>0</td>\n",
              "      <td>2</td>\n",
              "      <td>2.0</td>\n",
              "      <td>0</td>\n",
              "    </tr>\n",
              "    <tr>\n",
              "      <th>774</th>\n",
              "      <td>55.57</td>\n",
              "      <td>18</td>\n",
              "      <td>0.20</td>\n",
              "      <td>2</td>\n",
              "      <td>0.00</td>\n",
              "      <td>2</td>\n",
              "      <td>0.20</td>\n",
              "      <td>5.0</td>\n",
              "      <td>2</td>\n",
              "      <td>0.00</td>\n",
              "      <td>2</td>\n",
              "      <td>2</td>\n",
              "      <td>0</td>\n",
              "      <td>2</td>\n",
              "      <td>0</td>\n",
              "      <td>2</td>\n",
              "      <td>2.0</td>\n",
              "      <td>0</td>\n",
              "    </tr>\n",
              "    <tr>\n",
              "      <th>775</th>\n",
              "      <td>55.57</td>\n",
              "      <td>15</td>\n",
              "      <td>0.00</td>\n",
              "      <td>2</td>\n",
              "      <td>0.00</td>\n",
              "      <td>2</td>\n",
              "      <td>0.00</td>\n",
              "      <td>5.0</td>\n",
              "      <td>2</td>\n",
              "      <td>0.32</td>\n",
              "      <td>2</td>\n",
              "      <td>2</td>\n",
              "      <td>0</td>\n",
              "      <td>2</td>\n",
              "      <td>0</td>\n",
              "      <td>2</td>\n",
              "      <td>2.0</td>\n",
              "      <td>0</td>\n",
              "    </tr>\n",
              "  </tbody>\n",
              "</table>\n",
              "<p>776 rows × 18 columns</p>\n",
              "</div>\n",
              "      <button class=\"colab-df-convert\" onclick=\"convertToInteractive('df-add9c686-9cd3-4a89-97d4-d8d1c7306e56')\"\n",
              "              title=\"Convert this dataframe to an interactive table.\"\n",
              "              style=\"display:none;\">\n",
              "        \n",
              "  <svg xmlns=\"http://www.w3.org/2000/svg\" height=\"24px\"viewBox=\"0 0 24 24\"\n",
              "       width=\"24px\">\n",
              "    <path d=\"M0 0h24v24H0V0z\" fill=\"none\"/>\n",
              "    <path d=\"M18.56 5.44l.94 2.06.94-2.06 2.06-.94-2.06-.94-.94-2.06-.94 2.06-2.06.94zm-11 1L8.5 8.5l.94-2.06 2.06-.94-2.06-.94L8.5 2.5l-.94 2.06-2.06.94zm10 10l.94 2.06.94-2.06 2.06-.94-2.06-.94-.94-2.06-.94 2.06-2.06.94z\"/><path d=\"M17.41 7.96l-1.37-1.37c-.4-.4-.92-.59-1.43-.59-.52 0-1.04.2-1.43.59L10.3 9.45l-7.72 7.72c-.78.78-.78 2.05 0 2.83L4 21.41c.39.39.9.59 1.41.59.51 0 1.02-.2 1.41-.59l7.78-7.78 2.81-2.81c.8-.78.8-2.07 0-2.86zM5.41 20L4 18.59l7.72-7.72 1.47 1.35L5.41 20z\"/>\n",
              "  </svg>\n",
              "      </button>\n",
              "      \n",
              "  <style>\n",
              "    .colab-df-container {\n",
              "      display:flex;\n",
              "      flex-wrap:wrap;\n",
              "      gap: 12px;\n",
              "    }\n",
              "\n",
              "    .colab-df-convert {\n",
              "      background-color: #E8F0FE;\n",
              "      border: none;\n",
              "      border-radius: 50%;\n",
              "      cursor: pointer;\n",
              "      display: none;\n",
              "      fill: #1967D2;\n",
              "      height: 32px;\n",
              "      padding: 0 0 0 0;\n",
              "      width: 32px;\n",
              "    }\n",
              "\n",
              "    .colab-df-convert:hover {\n",
              "      background-color: #E2EBFA;\n",
              "      box-shadow: 0px 1px 2px rgba(60, 64, 67, 0.3), 0px 1px 3px 1px rgba(60, 64, 67, 0.15);\n",
              "      fill: #174EA6;\n",
              "    }\n",
              "\n",
              "    [theme=dark] .colab-df-convert {\n",
              "      background-color: #3B4455;\n",
              "      fill: #D2E3FC;\n",
              "    }\n",
              "\n",
              "    [theme=dark] .colab-df-convert:hover {\n",
              "      background-color: #434B5C;\n",
              "      box-shadow: 0px 1px 3px 1px rgba(0, 0, 0, 0.15);\n",
              "      filter: drop-shadow(0px 1px 2px rgba(0, 0, 0, 0.3));\n",
              "      fill: #FFFFFF;\n",
              "    }\n",
              "  </style>\n",
              "\n",
              "      <script>\n",
              "        const buttonEl =\n",
              "          document.querySelector('#df-add9c686-9cd3-4a89-97d4-d8d1c7306e56 button.colab-df-convert');\n",
              "        buttonEl.style.display =\n",
              "          google.colab.kernel.accessAllowed ? 'block' : 'none';\n",
              "\n",
              "        async function convertToInteractive(key) {\n",
              "          const element = document.querySelector('#df-add9c686-9cd3-4a89-97d4-d8d1c7306e56');\n",
              "          const dataTable =\n",
              "            await google.colab.kernel.invokeFunction('convertToInteractive',\n",
              "                                                     [key], {});\n",
              "          if (!dataTable) return;\n",
              "\n",
              "          const docLinkHtml = 'Like what you see? Visit the ' +\n",
              "            '<a target=\"_blank\" href=https://colab.research.google.com/notebooks/data_table.ipynb>data table notebook</a>'\n",
              "            + ' to learn more about interactive tables.';\n",
              "          element.innerHTML = '';\n",
              "          dataTable['output_type'] = 'display_data';\n",
              "          await google.colab.output.renderOutput(dataTable, element);\n",
              "          const docLink = document.createElement('div');\n",
              "          docLink.innerHTML = docLinkHtml;\n",
              "          element.appendChild(docLink);\n",
              "        }\n",
              "      </script>\n",
              "    </div>\n",
              "  </div>\n",
              "  "
            ]
          },
          "metadata": {},
          "execution_count": 816
        }
      ]
    },
    {
      "cell_type": "markdown",
      "source": [
        "# Preprocessing Data"
      ],
      "metadata": {
        "id": "ao-BABFqC42k"
      }
    },
    {
      "cell_type": "markdown",
      "source": [
        "## Merge Dataset"
      ],
      "metadata": {
        "id": "kCpd_KwPCMQ2"
      }
    },
    {
      "cell_type": "code",
      "source": [
        "#Rename atribut pada dataset trial\n",
        "\n",
        "trial.rename(columns = {'SCORE_A':'Score_A'}, inplace = True)\n",
        "trial.rename(columns = {'SCORE_B':'Score_B'}, inplace = True)\n",
        "trial.rename(columns = {'Risk':'Risk_Trial'}, inplace = True)"
      ],
      "metadata": {
        "id": "7spgweVF9WYc"
      },
      "execution_count": null,
      "outputs": []
    },
    {
      "cell_type": "code",
      "source": [
        "#Membagi atribut Score_A dan Score_B dengan 10\n",
        "\n",
        "trial['Score_A'] = trial['Score_A']/10\n",
        "trial['Score_B'] = trial['Score_B']/10"
      ],
      "metadata": {
        "id": "zF0bsBCCCZ24"
      },
      "execution_count": null,
      "outputs": []
    },
    {
      "cell_type": "code",
      "source": [
        "#Mencari kolom audit_risk yang sama dengan kolom trial\n",
        "\n",
        "same_columns = np.intersect1d(audit_risk.columns, trial.columns)\n",
        "same_columns"
      ],
      "metadata": {
        "colab": {
          "base_uri": "https://localhost:8080/"
        },
        "id": "QDcFgtSvCtuK",
        "outputId": "9df80c3e-8a87-47c6-a716-ef96b075ad3f"
      },
      "execution_count": null,
      "outputs": [
        {
          "output_type": "execute_result",
          "data": {
            "text/plain": [
              "array(['History', 'LOCATION_ID', 'Money_Value', 'PARA_A', 'PARA_B',\n",
              "       'Score', 'Score_A', 'Score_B', 'Sector_score', 'TOTAL', 'numbers'],\n",
              "      dtype=object)"
            ]
          },
          "metadata": {},
          "execution_count": 819
        }
      ]
    },
    {
      "cell_type": "code",
      "source": [
        "#Menggabung dua dataset\n",
        "\n",
        "df = pd.merge(audit_risk, trial, how='outer', on = ['History', 'LOCATION_ID', 'Money_Value', 'PARA_A', 'PARA_B',\n",
        "       'Score', 'Score_A', 'Score_B', 'Sector_score', 'TOTAL', 'numbers'])\n",
        "df.columns"
      ],
      "metadata": {
        "colab": {
          "base_uri": "https://localhost:8080/"
        },
        "id": "o8qA197jE3eK",
        "outputId": "c30c477f-7965-4efe-f4e3-54b0cf74ec4e"
      },
      "execution_count": null,
      "outputs": [
        {
          "output_type": "execute_result",
          "data": {
            "text/plain": [
              "Index(['Sector_score', 'LOCATION_ID', 'PARA_A', 'Score_A', 'Risk_A', 'PARA_B',\n",
              "       'Score_B', 'Risk_B', 'TOTAL', 'numbers', 'Score_B.1', 'Risk_C',\n",
              "       'Money_Value', 'Score_MV', 'Risk_D', 'District_Loss', 'PROB', 'RiSk_E',\n",
              "       'History', 'Prob', 'Risk_F', 'Score', 'Inherent_Risk', 'CONTROL_RISK',\n",
              "       'Detection_Risk', 'Audit_Risk', 'Risk', 'Marks', 'MONEY_Marks',\n",
              "       'District', 'Loss', 'LOSS_SCORE', 'History_score', 'Risk_Trial'],\n",
              "      dtype='object')"
            ]
          },
          "metadata": {},
          "execution_count": 820
        }
      ]
    },
    {
      "cell_type": "code",
      "source": [
        "# Cek Missing Value\n",
        "\n",
        "df.isnull().sum()"
      ],
      "metadata": {
        "colab": {
          "base_uri": "https://localhost:8080/"
        },
        "id": "99JfPnsvE6oX",
        "outputId": "11851582-c528-4b2c-8ea5-aea33b50826b"
      },
      "execution_count": null,
      "outputs": [
        {
          "output_type": "execute_result",
          "data": {
            "text/plain": [
              "Sector_score      0\n",
              "LOCATION_ID       0\n",
              "PARA_A            0\n",
              "Score_A           0\n",
              "Risk_A            0\n",
              "PARA_B            0\n",
              "Score_B           0\n",
              "Risk_B            0\n",
              "TOTAL             0\n",
              "numbers           0\n",
              "Score_B.1         0\n",
              "Risk_C            0\n",
              "Money_Value       1\n",
              "Score_MV          0\n",
              "Risk_D            0\n",
              "District_Loss     0\n",
              "PROB              0\n",
              "RiSk_E            0\n",
              "History           0\n",
              "Prob              0\n",
              "Risk_F            0\n",
              "Score             0\n",
              "Inherent_Risk     0\n",
              "CONTROL_RISK      0\n",
              "Detection_Risk    0\n",
              "Audit_Risk        0\n",
              "Risk              0\n",
              "Marks             0\n",
              "MONEY_Marks       0\n",
              "District          0\n",
              "Loss              0\n",
              "LOSS_SCORE        0\n",
              "History_score     0\n",
              "Risk_Trial        0\n",
              "dtype: int64"
            ]
          },
          "metadata": {},
          "execution_count": 821
        }
      ]
    },
    {
      "cell_type": "code",
      "source": [
        "# Mengganti missing value dengan nilai rata2 pada atribut Monet_Value\n",
        "\n",
        "df['Money_Value'] = df['Money_Value'].fillna(df['Money_Value'].median())\n",
        "df.isnull().sum()"
      ],
      "metadata": {
        "colab": {
          "base_uri": "https://localhost:8080/"
        },
        "id": "DJatJiCfIqU9",
        "outputId": "00240f9c-44a7-4b15-9167-f2cdb4ce6219"
      },
      "execution_count": null,
      "outputs": [
        {
          "output_type": "execute_result",
          "data": {
            "text/plain": [
              "Sector_score      0\n",
              "LOCATION_ID       0\n",
              "PARA_A            0\n",
              "Score_A           0\n",
              "Risk_A            0\n",
              "PARA_B            0\n",
              "Score_B           0\n",
              "Risk_B            0\n",
              "TOTAL             0\n",
              "numbers           0\n",
              "Score_B.1         0\n",
              "Risk_C            0\n",
              "Money_Value       0\n",
              "Score_MV          0\n",
              "Risk_D            0\n",
              "District_Loss     0\n",
              "PROB              0\n",
              "RiSk_E            0\n",
              "History           0\n",
              "Prob              0\n",
              "Risk_F            0\n",
              "Score             0\n",
              "Inherent_Risk     0\n",
              "CONTROL_RISK      0\n",
              "Detection_Risk    0\n",
              "Audit_Risk        0\n",
              "Risk              0\n",
              "Marks             0\n",
              "MONEY_Marks       0\n",
              "District          0\n",
              "Loss              0\n",
              "LOSS_SCORE        0\n",
              "History_score     0\n",
              "Risk_Trial        0\n",
              "dtype: int64"
            ]
          },
          "metadata": {},
          "execution_count": 822
        }
      ]
    },
    {
      "cell_type": "code",
      "source": [
        "#Atribut 'Detection_Risk' dan 'Risk_F' memiliki value yang sama sepanjang baris, sehingga bisa di drop saja\n",
        "\n",
        "df = df.drop(['Detection_Risk', 'Risk_F'], axis = 1) \n",
        "df.info()"
      ],
      "metadata": {
        "colab": {
          "base_uri": "https://localhost:8080/"
        },
        "id": "VRrWia5SOUNh",
        "outputId": "eb9859ee-965a-42fa-a13a-2ce381991cb2"
      },
      "execution_count": null,
      "outputs": [
        {
          "output_type": "stream",
          "name": "stdout",
          "text": [
            "<class 'pandas.core.frame.DataFrame'>\n",
            "Int64Index: 810 entries, 0 to 809\n",
            "Data columns (total 32 columns):\n",
            " #   Column         Non-Null Count  Dtype  \n",
            "---  ------         --------------  -----  \n",
            " 0   Sector_score   810 non-null    float64\n",
            " 1   LOCATION_ID    810 non-null    object \n",
            " 2   PARA_A         810 non-null    float64\n",
            " 3   Score_A        810 non-null    float64\n",
            " 4   Risk_A         810 non-null    float64\n",
            " 5   PARA_B         810 non-null    float64\n",
            " 6   Score_B        810 non-null    float64\n",
            " 7   Risk_B         810 non-null    float64\n",
            " 8   TOTAL          810 non-null    float64\n",
            " 9   numbers        810 non-null    float64\n",
            " 10  Score_B.1      810 non-null    float64\n",
            " 11  Risk_C         810 non-null    float64\n",
            " 12  Money_Value    810 non-null    float64\n",
            " 13  Score_MV       810 non-null    float64\n",
            " 14  Risk_D         810 non-null    float64\n",
            " 15  District_Loss  810 non-null    int64  \n",
            " 16  PROB           810 non-null    float64\n",
            " 17  RiSk_E         810 non-null    float64\n",
            " 18  History        810 non-null    int64  \n",
            " 19  Prob           810 non-null    float64\n",
            " 20  Score          810 non-null    float64\n",
            " 21  Inherent_Risk  810 non-null    float64\n",
            " 22  CONTROL_RISK   810 non-null    float64\n",
            " 23  Audit_Risk     810 non-null    float64\n",
            " 24  Risk           810 non-null    int64  \n",
            " 25  Marks          810 non-null    int64  \n",
            " 26  MONEY_Marks    810 non-null    int64  \n",
            " 27  District       810 non-null    int64  \n",
            " 28  Loss           810 non-null    int64  \n",
            " 29  LOSS_SCORE     810 non-null    int64  \n",
            " 30  History_score  810 non-null    int64  \n",
            " 31  Risk_Trial     810 non-null    int64  \n",
            "dtypes: float64(21), int64(10), object(1)\n",
            "memory usage: 208.8+ KB\n"
          ]
        }
      ]
    },
    {
      "cell_type": "code",
      "source": [
        "# Membuat value \"LOCATION_ID\" menjadi unique\n",
        "\n",
        "df[\"LOCATION_ID\"].unique()"
      ],
      "metadata": {
        "colab": {
          "base_uri": "https://localhost:8080/"
        },
        "id": "mWAdJEvHZ8Ug",
        "outputId": "b3441901-ad64-4993-fdef-470158f5e6ff"
      },
      "execution_count": null,
      "outputs": [
        {
          "output_type": "execute_result",
          "data": {
            "text/plain": [
              "array(['23', '6', '7', '8', '13', '37', '24', '3', '4', '14', '5', '20',\n",
              "       '19', '21', '22', '9', '11', '12', '29', '30', '38', '31', '2',\n",
              "       '32', '16', '33', '15', '36', '34', '18', '25', '39', '27', '35',\n",
              "       '40', '41', '42', '1', '28', 'LOHARU', 'NUH', 'SAFIDON', '43',\n",
              "       '44', '17'], dtype=object)"
            ]
          },
          "metadata": {},
          "execution_count": 824
        }
      ]
    },
    {
      "cell_type": "code",
      "source": [
        "# Print total value pada \"LOCATION_ID\" yang non-numerik\n",
        "\n",
        "print(\"Total value pada LOCATION_ID yang non-numerik: \", len(df[(df[\"LOCATION_ID\"] == 'LOHARU') | (df[\"LOCATION_ID\"] ==  'NUH') | (df[\"LOCATION_ID\"] == 'SAFIDON')]))"
      ],
      "metadata": {
        "colab": {
          "base_uri": "https://localhost:8080/"
        },
        "id": "OcqoictZfyFv",
        "outputId": "4b795ee8-6917-48cd-cb69-9de3f6ce7b09"
      },
      "execution_count": null,
      "outputs": [
        {
          "output_type": "stream",
          "name": "stdout",
          "text": [
            "Total value pada LOCATION_ID yang non-numerik:  3\n"
          ]
        }
      ]
    },
    {
      "cell_type": "code",
      "source": [
        "# Menghapus baris yang terdapat value non-numerik\n",
        "\n",
        "df = df[(df.LOCATION_ID != 'LOHARU')]\n",
        "df = df[(df.LOCATION_ID != 'NUH')]\n",
        "df = df[(df.LOCATION_ID != 'SAFIDON')]\n",
        "df = df.astype(float)\n",
        "print(\"Jumlah baris : \",len(df))"
      ],
      "metadata": {
        "colab": {
          "base_uri": "https://localhost:8080/"
        },
        "id": "fY8kKdzRpp0O",
        "outputId": "25a2d7df-ebda-4a03-dfa6-02d7f5baa060"
      },
      "execution_count": null,
      "outputs": [
        {
          "output_type": "stream",
          "name": "stdout",
          "text": [
            "Jumlah baris :  807\n"
          ]
        }
      ]
    },
    {
      "cell_type": "code",
      "source": [
        "# Menghapus value yang duplikat\n",
        "\n",
        "df = df.drop_duplicates(keep = 'first')\n",
        "print(\"Jumlah baris : \",len(df))"
      ],
      "metadata": {
        "colab": {
          "base_uri": "https://localhost:8080/"
        },
        "id": "X6EiggW1Kl6z",
        "outputId": "0239389d-a1e8-43c8-86ad-8374092a7e4c"
      },
      "execution_count": null,
      "outputs": [
        {
          "output_type": "stream",
          "name": "stdout",
          "text": [
            "Jumlah baris :  760\n"
          ]
        }
      ]
    },
    {
      "cell_type": "code",
      "source": [
        "# Menghitung outlier\n",
        "\n",
        "Q1 = df.quantile(0.25)\n",
        "Q3 = df.quantile(0.75)\n",
        "IQR = Q3 - Q1\n",
        "((df < (Q1 - 1.5 * df)) | (df > (Q3 + 1.5 * IQR))).sum()"
      ],
      "metadata": {
        "colab": {
          "base_uri": "https://localhost:8080/"
        },
        "id": "_MChigd3orfi",
        "outputId": "8e0e8c90-f5c3-4a69-c161-ab1afd8a1cd1"
      },
      "execution_count": null,
      "outputs": [
        {
          "output_type": "execute_result",
          "data": {
            "text/plain": [
              "Sector_score       0\n",
              "LOCATION_ID       94\n",
              "PARA_A           245\n",
              "Score_A            0\n",
              "Risk_A           244\n",
              "PARA_B           132\n",
              "Score_B            0\n",
              "Risk_B           139\n",
              "TOTAL            251\n",
              "numbers           70\n",
              "Score_B.1         70\n",
              "Risk_C            70\n",
              "Money_Value      114\n",
              "Score_MV           0\n",
              "Risk_D           149\n",
              "District_Loss    122\n",
              "PROB              22\n",
              "RiSk_E           138\n",
              "History           50\n",
              "Prob              50\n",
              "Score              0\n",
              "Inherent_Risk    132\n",
              "CONTROL_RISK     173\n",
              "Audit_Risk       126\n",
              "Risk               0\n",
              "Marks             70\n",
              "MONEY_Marks        0\n",
              "District         122\n",
              "Loss              21\n",
              "LOSS_SCORE        22\n",
              "History_score     50\n",
              "Risk_Trial         0\n",
              "dtype: int64"
            ]
          },
          "metadata": {},
          "execution_count": 828
        }
      ]
    },
    {
      "cell_type": "code",
      "source": [
        "#Boxplot\n",
        "\n",
        "plt.figure(figsize=(45,15))\n",
        "df.boxplot(column=['Sector_score', 'LOCATION_ID', 'PARA_A', 'Score_A', 'Risk_A', 'PARA_B',\n",
        "       'Score_B', 'Risk_B', 'TOTAL', 'numbers', 'Score_B.1', 'Risk_C',\n",
        "       'Money_Value', 'Score_MV', 'Risk_D', 'District_Loss', 'PROB', 'RiSk_E',\n",
        "       'History', 'Prob', 'Score', 'Inherent_Risk', 'CONTROL_RISK',\n",
        "       'Audit_Risk', 'Risk', 'Marks', 'MONEY_Marks','District', \n",
        "       'Loss', 'LOSS_SCORE', 'History_score', 'Risk_Trial'])\n",
        "plt.show()"
      ],
      "metadata": {
        "colab": {
          "base_uri": "https://localhost:8080/",
          "height": 580
        },
        "id": "-iBVYD71ZjUF",
        "outputId": "ed388638-60fb-41cd-c7db-c0ec8feefc68"
      },
      "execution_count": null,
      "outputs": [
        {
          "output_type": "display_data",
          "data": {
            "text/plain": [
              "<Figure size 3240x1080 with 1 Axes>"
            ],
            "image/png": "[encoded data removed]"
          },
          "metadata": {
            "needs_background": "light"
          }
        }
      ]
    },
    {
      "cell_type": "markdown",
      "source": [
        "# Classification"
      ],
      "metadata": {
        "id": "P7KDs2KtN_RV"
      }
    },
    {
      "cell_type": "code",
      "source": [
        "# Menghapus atribut risk pada dataset sebagai bahan training dan test\n",
        "\n",
        "classification_X = df.drop([\"Risk\"], axis = 1)\n",
        "classification_y = df[\"Risk\"]"
      ],
      "metadata": {
        "id": "XInGosydlE-d"
      },
      "execution_count": null,
      "outputs": []
    },
    {
      "cell_type": "code",
      "source": [
        "# Train-Test Split\n",
        "\n",
        "X_train_org, X_test_org, y_train, y_test = train_test_split(classification_X, classification_y, test_size = 0.25, random_state = 0)"
      ],
      "metadata": {
        "id": "TMdsixuoN1EU"
      },
      "execution_count": null,
      "outputs": []
    },
    {
      "cell_type": "code",
      "source": [
        "# Feature Scaling\n",
        "\n",
        "scaler = MinMaxScaler()\n",
        "\n",
        "X_train = scaler.fit_transform(X_train_org)\n",
        "X_test  = scaler.transform(X_test_org)"
      ],
      "metadata": {
        "id": "246O1UQdsvcp"
      },
      "execution_count": null,
      "outputs": []
    },
    {
      "cell_type": "markdown",
      "source": [
        "# ANN"
      ],
      "metadata": {
        "id": "PRW80pfQt4Vv"
      }
    },
    {
      "cell_type": "code",
      "source": [
        "# activation function\n",
        "\n",
        "model = tf.keras.Sequential([\n",
        "    tf.keras.layers.Dense(units=31, input_dim=31),\n",
        "    tf.keras.layers.Dense(32, activation='sigmoid'),\n",
        "    tf.keras.layers.Dense(32, activation='sigmoid'),\n",
        "    tf.keras.layers.Dense(1, activation='relu')\n",
        "])\n",
        "model.summary()"
      ],
      "metadata": {
        "colab": {
          "base_uri": "https://localhost:8080/"
        },
        "id": "gHeXd3Hht7xS",
        "outputId": "db014a0b-7809-4eb3-da6b-e0d40e7d518d"
      },
      "execution_count": null,
      "outputs": [
        {
          "output_type": "stream",
          "name": "stdout",
          "text": [
            "Model: \"sequential_34\"\n",
            "_________________________________________________________________\n",
            " Layer (type)                Output Shape              Param #   \n",
            "=================================================================\n",
            " dense_120 (Dense)           (None, 31)                992       \n",
            "                                                                 \n",
            " dense_121 (Dense)           (None, 32)                1024      \n",
            "                                                                 \n",
            " dense_122 (Dense)           (None, 32)                1056      \n",
            "                                                                 \n",
            " dense_123 (Dense)           (None, 1)                 33        \n",
            "                                                                 \n",
            "=================================================================\n",
            "Total params: 3,105\n",
            "Trainable params: 3,105\n",
            "Non-trainable params: 0\n",
            "_________________________________________________________________\n"
          ]
        }
      ]
    },
    {
      "cell_type": "code",
      "source": [
        "model.compile(loss = 'binary_crossentropy', optimizer = 'adam', metrics = ['accuracy'])\n",
        "model.fit(X_train, y_train, epochs = 50, batch_size = 50)"
      ],
      "metadata": {
        "colab": {
          "base_uri": "https://localhost:8080/"
        },
        "id": "EBXEHAe_38zp",
        "outputId": "8ae39e76-a63d-4336-a80e-c2def5afc1d7"
      },
      "execution_count": null,
      "outputs": [
        {
          "output_type": "stream",
          "name": "stdout",
          "text": [
            "Epoch 1/50\n",
            "12/12 [==============================] - 0s 3ms/step - loss: 0.9370 - accuracy: 0.6035\n",
            "Epoch 2/50\n",
            "12/12 [==============================] - 0s 2ms/step - loss: 0.6557 - accuracy: 0.6035\n",
            "Epoch 3/50\n",
            "12/12 [==============================] - 0s 2ms/step - loss: 0.6520 - accuracy: 0.6860\n",
            "Epoch 4/50\n",
            "12/12 [==============================] - 0s 2ms/step - loss: 0.6374 - accuracy: 0.7246\n",
            "Epoch 5/50\n",
            "12/12 [==============================] - 0s 2ms/step - loss: 0.6177 - accuracy: 0.6912\n",
            "Epoch 6/50\n",
            "12/12 [==============================] - 0s 2ms/step - loss: 0.5978 - accuracy: 0.6667\n",
            "Epoch 7/50\n",
            "12/12 [==============================] - 0s 2ms/step - loss: 0.5764 - accuracy: 0.6789\n",
            "Epoch 8/50\n",
            "12/12 [==============================] - 0s 2ms/step - loss: 0.5523 - accuracy: 0.7211\n",
            "Epoch 9/50\n",
            "12/12 [==============================] - 0s 2ms/step - loss: 0.5244 - accuracy: 0.7684\n",
            "Epoch 10/50\n",
            "12/12 [==============================] - 0s 1ms/step - loss: 0.4935 - accuracy: 0.8123\n",
            "Epoch 11/50\n",
            "12/12 [==============================] - 0s 2ms/step - loss: 0.4588 - accuracy: 0.8509\n",
            "Epoch 12/50\n",
            "12/12 [==============================] - 0s 2ms/step - loss: 0.4217 - accuracy: 0.8825\n",
            "Epoch 13/50\n",
            "12/12 [==============================] - 0s 2ms/step - loss: 0.3818 - accuracy: 0.9070\n",
            "Epoch 14/50\n",
            "12/12 [==============================] - 0s 2ms/step - loss: 0.3391 - accuracy: 0.9140\n",
            "Epoch 15/50\n",
            "12/12 [==============================] - 0s 3ms/step - loss: 0.3008 - accuracy: 0.9228\n",
            "Epoch 16/50\n",
            "12/12 [==============================] - 0s 3ms/step - loss: 0.2721 - accuracy: 0.9333\n",
            "Epoch 17/50\n",
            "12/12 [==============================] - 0s 2ms/step - loss: 0.2480 - accuracy: 0.9263\n",
            "Epoch 18/50\n",
            "12/12 [==============================] - 0s 2ms/step - loss: 0.2260 - accuracy: 0.9316\n",
            "Epoch 19/50\n",
            "12/12 [==============================] - 0s 2ms/step - loss: 0.2068 - accuracy: 0.9298\n",
            "Epoch 20/50\n",
            "12/12 [==============================] - 0s 2ms/step - loss: 0.1897 - accuracy: 0.9316\n",
            "Epoch 21/50\n",
            "12/12 [==============================] - 0s 2ms/step - loss: 0.1764 - accuracy: 0.9404\n",
            "Epoch 22/50\n",
            "12/12 [==============================] - 0s 2ms/step - loss: 0.1659 - accuracy: 0.9439\n",
            "Epoch 23/50\n",
            "12/12 [==============================] - 0s 2ms/step - loss: 0.1583 - accuracy: 0.9421\n",
            "Epoch 24/50\n",
            "12/12 [==============================] - 0s 2ms/step - loss: 0.1522 - accuracy: 0.9421\n",
            "Epoch 25/50\n",
            "12/12 [==============================] - 0s 2ms/step - loss: 0.1480 - accuracy: 0.9439\n",
            "Epoch 26/50\n",
            "12/12 [==============================] - 0s 2ms/step - loss: 0.1439 - accuracy: 0.9439\n",
            "Epoch 27/50\n",
            "12/12 [==============================] - 0s 2ms/step - loss: 0.1395 - accuracy: 0.9421\n",
            "Epoch 28/50\n",
            "12/12 [==============================] - 0s 2ms/step - loss: 0.1356 - accuracy: 0.9439\n",
            "Epoch 29/50\n",
            "12/12 [==============================] - 0s 2ms/step - loss: 0.1318 - accuracy: 0.9439\n",
            "Epoch 30/50\n",
            "12/12 [==============================] - 0s 2ms/step - loss: 0.1283 - accuracy: 0.9439\n",
            "Epoch 31/50\n",
            "12/12 [==============================] - 0s 2ms/step - loss: 0.1258 - accuracy: 0.9474\n",
            "Epoch 32/50\n",
            "12/12 [==============================] - 0s 2ms/step - loss: 0.1217 - accuracy: 0.9474\n",
            "Epoch 33/50\n",
            "12/12 [==============================] - 0s 2ms/step - loss: 0.1172 - accuracy: 0.9474\n",
            "Epoch 34/50\n",
            "12/12 [==============================] - 0s 1ms/step - loss: 0.1137 - accuracy: 0.9526\n",
            "Epoch 35/50\n",
            "12/12 [==============================] - 0s 2ms/step - loss: 0.1111 - accuracy: 0.9544\n",
            "Epoch 36/50\n",
            "12/12 [==============================] - 0s 2ms/step - loss: 0.1065 - accuracy: 0.9579\n",
            "Epoch 37/50\n",
            "12/12 [==============================] - 0s 1ms/step - loss: 0.1038 - accuracy: 0.9544\n",
            "Epoch 38/50\n",
            "12/12 [==============================] - 0s 2ms/step - loss: 0.1000 - accuracy: 0.9561\n",
            "Epoch 39/50\n",
            "12/12 [==============================] - 0s 2ms/step - loss: 0.0969 - accuracy: 0.9596\n",
            "Epoch 40/50\n",
            "12/12 [==============================] - 0s 2ms/step - loss: 0.0941 - accuracy: 0.9614\n",
            "Epoch 41/50\n",
            "12/12 [==============================] - 0s 2ms/step - loss: 0.0925 - accuracy: 0.9684\n",
            "Epoch 42/50\n",
            "12/12 [==============================] - 0s 2ms/step - loss: 0.0895 - accuracy: 0.9667\n",
            "Epoch 43/50\n",
            "12/12 [==============================] - 0s 2ms/step - loss: 0.0875 - accuracy: 0.9684\n",
            "Epoch 44/50\n",
            "12/12 [==============================] - 0s 2ms/step - loss: 0.0861 - accuracy: 0.9667\n",
            "Epoch 45/50\n",
            "12/12 [==============================] - 0s 2ms/step - loss: 0.0845 - accuracy: 0.9684\n",
            "Epoch 46/50\n",
            "12/12 [==============================] - 0s 2ms/step - loss: 0.0829 - accuracy: 0.9684\n",
            "Epoch 47/50\n",
            "12/12 [==============================] - 0s 2ms/step - loss: 0.0815 - accuracy: 0.9684\n",
            "Epoch 48/50\n",
            "12/12 [==============================] - 0s 2ms/step - loss: 0.0802 - accuracy: 0.9684\n",
            "Epoch 49/50\n",
            "12/12 [==============================] - 0s 1ms/step - loss: 0.0793 - accuracy: 0.9684\n",
            "Epoch 50/50\n",
            "12/12 [==============================] - 0s 1ms/step - loss: 0.0788 - accuracy: 0.9667\n"
          ]
        },
        {
          "output_type": "execute_result",
          "data": {
            "text/plain": [
              "<keras.callbacks.History at 0x7f0d8b89aed0>"
            ]
          },
          "metadata": {},
          "execution_count": 834
        }
      ]
    },
    {
      "cell_type": "code",
      "source": [
        "print(\"Evaluasi data \")\n",
        "results = model.evaluate(X_test, y_test, batch_size=128)"
      ],
      "metadata": {
        "colab": {
          "base_uri": "https://localhost:8080/"
        },
        "id": "ENNWns3u4SxB",
        "outputId": "8cc6e0f4-acb4-472b-f69c-a9bd073a5af8"
      },
      "execution_count": null,
      "outputs": [
        {
          "output_type": "stream",
          "name": "stdout",
          "text": [
            "Evaluasi data \n",
            "2/2 [==============================] - 0s 3ms/step - loss: 0.0785 - accuracy: 0.9684\n"
          ]
        }
      ]
    },
    {
      "cell_type": "code",
      "source": [
        "sns.countplot(audit_risk['Risk'])"
      ],
      "metadata": {
        "colab": {
          "base_uri": "https://localhost:8080/",
          "height": 351
        },
        "id": "TehiCREF4vWf",
        "outputId": "0f02cf08-ff16-4b97-89a7-f54615a04eb0"
      },
      "execution_count": null,
      "outputs": [
        {
          "output_type": "stream",
          "name": "stderr",
          "text": [
            "/usr/local/lib/python3.7/dist-packages/seaborn/_decorators.py:43: FutureWarning: Pass the following variable as a keyword arg: x. From version 0.12, the only valid positional argument will be `data`, and passing other arguments without an explicit keyword will result in an error or misinterpretation.\n",
            "  FutureWarning\n"
          ]
        },
        {
          "output_type": "execute_result",
          "data": {
            "text/plain": [
              "<matplotlib.axes._subplots.AxesSubplot at 0x7f0d8b6b5710>"
            ]
          },
          "metadata": {},
          "execution_count": 836
        },
        {
          "output_type": "display_data",
          "data": {
            "text/plain": [
              "<Figure size 432x288 with 1 Axes>"
            ],
            "image/png": "[encoded data removed]"
          },
          "metadata": {
            "needs_background": "light"
          }
        }
      ]
    }
  ]
}